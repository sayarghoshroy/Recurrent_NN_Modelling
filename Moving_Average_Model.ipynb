{
  "nbformat": 4,
  "nbformat_minor": 0,
  "metadata": {
    "colab": {
      "name": "Moving_Average_Model.ipynb",
      "provenance": [],
      "collapsed_sections": [],
      "authorship_tag": "ABX9TyPZm3hjgx1svvYP0TvngAB3",
      "include_colab_link": true
    },
    "kernelspec": {
      "name": "python3",
      "display_name": "Python 3"
    }
  },
  "cells": [
    {
      "cell_type": "markdown",
      "metadata": {
        "id": "view-in-github",
        "colab_type": "text"
      },
      "source": [
        "<a href=\"https://colab.research.google.com/github/sayarghoshroy/Recurrent_NN_Modelling/blob/master/Moving_Average_Model.ipynb\" target=\"_parent\"><img src=\"https://colab.research.google.com/assets/colab-badge.svg\" alt=\"Open In Colab\"/></a>"
      ]
    },
    {
      "cell_type": "code",
      "metadata": {
        "id": "O7ZbwvYLpC8b",
        "colab_type": "code",
        "colab": {}
      },
      "source": [
        "# RNN for auto-regressive model"
      ],
      "execution_count": 0,
      "outputs": []
    },
    {
      "cell_type": "code",
      "metadata": {
        "id": "d0lrUvhO3_QA",
        "colab_type": "code",
        "colab": {}
      },
      "source": [
        "import numpy as np\n",
        "import torch\n",
        "import torch.nn as nn\n",
        "import torch.optim as optim\n",
        "import matplotlib.pyplot as plt\n",
        "from tqdm import tqdm\n",
        "from sklearn.preprocessing import MinMaxScaler"
      ],
      "execution_count": 0,
      "outputs": []
    },
    {
      "cell_type": "code",
      "metadata": {
        "id": "o-MoySaWpJIY",
        "colab_type": "code",
        "colab": {}
      },
      "source": [
        "# Moving Average Model\n",
        "\n",
        "U = np.random.normal(0, 1, 5).tolist()\n",
        "X_moving_avg = []\n",
        "\n",
        "# Generating Samples\n",
        "\n",
        "for generate in range(4000):\n",
        "    value = 5 * U[-1] - (U[-2] + U[-3] + U[-4] + U[-5])\n",
        "    X_moving_avg.append(value)\n",
        "    U.append(np.random.normal(0, 1))\n",
        "\n",
        "X_train = np.asarray(X_moving_avg[0: 2000])\n",
        "X_test = np.asarray(X_moving_avg[2000: 4000])"
      ],
      "execution_count": 0,
      "outputs": []
    },
    {
      "cell_type": "code",
      "metadata": {
        "id": "_fLJjR_v8Fzb",
        "colab_type": "code",
        "colab": {}
      },
      "source": [
        "scaler = MinMaxScaler(feature_range = (-1, 1))\n",
        "train_normalized = scaler.fit_transform(X_train.reshape(-1, 1))\n",
        "normalized_train_set = torch.FloatTensor(train_normalized).view(-1)"
      ],
      "execution_count": 0,
      "outputs": []
    },
    {
      "cell_type": "code",
      "metadata": {
        "id": "fZ95pJgIAMi9",
        "colab_type": "code",
        "colab": {}
      },
      "source": [
        "def make_sequence(input_sequence, window):\n",
        "    sequence = []\n",
        "    size = len(input_sequence)\n",
        "\n",
        "    for index in range(size - window):\n",
        "        train_sequence = input_sequence[index: index + window]\n",
        "        train_label = input_sequence[index + window: index + window + 1]\n",
        "        # predict the next item given a window size\n",
        "\n",
        "        sequence.append((train_sequence, train_label))\n",
        "    \n",
        "    return sequence"
      ],
      "execution_count": 0,
      "outputs": []
    },
    {
      "cell_type": "code",
      "metadata": {
        "id": "syB-OyFkA_0M",
        "colab_type": "code",
        "colab": {}
      },
      "source": [
        "train_X_y = make_sequence(normalized_train_set, 3)\n",
        "test_X_y = make_sequence(normalized_train_set, 3)"
      ],
      "execution_count": 0,
      "outputs": []
    },
    {
      "cell_type": "code",
      "metadata": {
        "id": "6RCXuakVDA9o",
        "colab_type": "code",
        "colab": {}
      },
      "source": [
        "class RNN_time_series(nn.Module):\n",
        "    def __init__(self, input_size = 1, hidden_layer_size = 100, output_size = 1):\n",
        "        super().__init__()\n",
        "        self.hidden_layer_size = hidden_layer_size\n",
        "\n",
        "        self.lstm = nn.LSTM(input_size, hidden_layer_size, num_layers = 3)\n",
        "        self.linear = nn.Linear(hidden_layer_size, output_size)\n",
        "\n",
        "        self.hidden_cell = (torch.zeros(1, 1, self.hidden_layer_size),\n",
        "                            torch.zeros(1, 1, self.hidden_layer_size))\n",
        "        \n",
        "    def forward(self, input_sequence):\n",
        "        input_size = len(input_sequence)\n",
        "        rnn_out, self.hidden_cell = self.lstm(input_sequence.view(input_size, 1, -1), self.hidden_cell)\n",
        "        predicted = self.linear(rnn_out.view(input_size, -1))\n",
        "        return predicted[-1]"
      ],
      "execution_count": 0,
      "outputs": []
    },
    {
      "cell_type": "code",
      "metadata": {
        "id": "1ESSOOWlDIQ_",
        "colab_type": "code",
        "colab": {}
      },
      "source": [
        "model = RNN_time_series()\n",
        "loss_function = nn.MSELoss()\n",
        "optimizer = optim.Adam(model.parameters(), 5 * 1e-2)"
      ],
      "execution_count": 0,
      "outputs": []
    },
    {
      "cell_type": "code",
      "metadata": {
        "id": "mAwux5FVF9zB",
        "colab_type": "code",
        "outputId": "8d66c10f-838c-4189-aef2-a08c915fd66b",
        "colab": {
          "base_uri": "https://localhost:8080/",
          "height": 35
        }
      },
      "source": [
        "# training:\n",
        "num_epochs = 20\n",
        "losses = []\n",
        "\n",
        "for index in tqdm(range(num_epochs)):\n",
        "    error = 0\n",
        "    for X, y in train_X_y:\n",
        "        optimizer.zero_grad()\n",
        "        model.hidden_cell = (torch.zeros(3, 1, model.hidden_layer_size),\n",
        "                             torch.zeros(3, 1, model.hidden_layer_size))\n",
        "        \n",
        "        y_pred = model(X)\n",
        "        loss = loss_function(y_pred, y)\n",
        "        loss.backward()\n",
        "        optimizer.step()\n",
        "        error += loss.item()\n",
        "    losses.append(error / len(train_X_y))"
      ],
      "execution_count": 9,
      "outputs": [
        {
          "output_type": "stream",
          "text": [
            "100%|██████████| 20/20 [06:58<00:00, 20.94s/it]\n"
          ],
          "name": "stderr"
        }
      ]
    },
    {
      "cell_type": "code",
      "metadata": {
        "id": "kGCnzIj-GURp",
        "colab_type": "code",
        "outputId": "40aa7a00-f2d8-4892-f971-6b773274d939",
        "colab": {
          "base_uri": "https://localhost:8080/",
          "height": 621
        }
      },
      "source": [
        "# plotting MSE loss versus Iteration Curve\n",
        "vis = plt.figure(figsize = (12, 10))\n",
        "fig = vis.add_subplot('111')\n",
        "\n",
        "fig.set_title('MSE Loss versus Epoch')\n",
        "fig.set_xlabel('Epoch Number')\n",
        "fig.set_ylabel('Loss')\n",
        "\n",
        "x = [index for index in range(1, len(losses)  + 1)]\n",
        "fig.plot(x, losses, color = 'blue')\n",
        "vis.show()"
      ],
      "execution_count": 10,
      "outputs": [
        {
          "output_type": "display_data",
          "data": {
            "image/png": "[encoded data removed]",
            "text/plain": [
              "<Figure size 864x720 with 1 Axes>"
            ]
          },
          "metadata": {
            "tags": [],
            "needs_background": "light"
          }
        }
      ]
    },
    {
      "cell_type": "code",
      "metadata": {
        "id": "sfcw3-0nI_ww",
        "colab_type": "code",
        "colab": {}
      },
      "source": [
        "# getting into prediction mode\n",
        "model.eval()\n",
        "\n",
        "test_sequence = normalized_train_set[-3: ].tolist()\n",
        "\n",
        "for index in range(2000):\n",
        "    seq = torch.FloatTensor(test_sequence[-3: ])\n",
        "    with torch.no_grad():\n",
        "        model.hidden = (torch.zeros(1, 1, model.hidden_layer_size),\n",
        "                        torch.zeros(1, 1, model.hidden_layer_size))\n",
        "        test_sequence.append(model(seq).item())"
      ],
      "execution_count": 0,
      "outputs": []
    },
    {
      "cell_type": "code",
      "metadata": {
        "id": "GSSB8dTcNrgF",
        "colab_type": "code",
        "colab": {}
      },
      "source": [
        "X_test_predicted = scaler.inverse_transform(np.asarray(test_sequence[3: ]).reshape(-1, 1)).reshape(2000, )\n",
        "X_test_predicted = np.asarray(test_sequence[3: ]).reshape(2000, )"
      ],
      "execution_count": 0,
      "outputs": []
    },
    {
      "cell_type": "code",
      "metadata": {
        "id": "eCgyxe6yOIMr",
        "colab_type": "code",
        "colab": {}
      },
      "source": [
        "def R_squared(true, pred):\n",
        "    means = np.array([np.mean(true) for elem in true])\n",
        "\n",
        "    error_regr = np.power(np.linalg.norm(true - pred), 2)\n",
        "    error_mean = np.power(np.linalg.norm(true - means), 2)\n",
        "\n",
        "    return (1 - (error_regr / error_mean))"
      ],
      "execution_count": 0,
      "outputs": []
    },
    {
      "cell_type": "code",
      "metadata": {
        "id": "EC1kaSopLapL",
        "colab_type": "code",
        "outputId": "3b696e01-5634-4400-e4c9-fc84ca21ebfd",
        "colab": {
          "base_uri": "https://localhost:8080/",
          "height": 70
        }
      },
      "source": [
        "# Metrics:\n",
        "test_size = 2000\n",
        "MSE = np.linalg.norm(X_test_predicted - X_test) / test_size\n",
        "MAE = np.sum(np.absolute(X_test_predicted - X_test)) / test_size\n",
        "R2 = R_squared(X_test, X_test_predicted)\n",
        "\n",
        "print(\"MSE: \" + str(MSE))\n",
        "print(\"MAE: \" + str(MAE))\n",
        "print(\"R-squared: \" + str(R2))"
      ],
      "execution_count": 14,
      "outputs": [
        {
          "output_type": "stream",
          "text": [
            "MSE: 0.11645269161467944\n",
            "MAE: 4.169944311614238\n",
            "R-squared: -0.004852862596181895\n"
          ],
          "name": "stdout"
        }
      ]
    },
    {
      "cell_type": "code",
      "metadata": {
        "id": "T9N4k-xlNmJ_",
        "colab_type": "code",
        "colab": {}
      },
      "source": [
        "# ^_^ Thank You"
      ],
      "execution_count": 0,
      "outputs": []
    }
  ]
}